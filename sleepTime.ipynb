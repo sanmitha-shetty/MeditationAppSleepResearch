{
 "cells": [
  {
   "cell_type": "code",
   "execution_count": 1,
   "metadata": {},
   "outputs": [],
   "source": [
    "import pytesseract"
   ]
  },
  {
   "cell_type": "code",
   "execution_count": 2,
   "metadata": {},
   "outputs": [],
   "source": [
    "pytesseract.pytesseract.tesseract_cmd = r'C:\\Program Files\\Tesseract-OCR\\tesseract.exe'"
   ]
  },
  {
   "cell_type": "code",
   "execution_count": 3,
   "metadata": {},
   "outputs": [
    {
     "name": "stdout",
     "output_type": "stream",
     "text": [
      "All sleep data sorted by date saved to all_sleep_data_sorted.csv\n"
     ]
    }
   ],
   "source": [
    "from PIL import Image\n",
    "import pandas as pd\n",
    "import re\n",
    "import os\n",
    "\n",
    "# Folder containing the images\n",
    "folder_path = \"Sleep Time Data\"  # Replace with your actual folder path\n",
    "\n",
    "# Function to extract date from filename (e.g., \"2-27 sleep time.jpg\" -> \"2025-02-27\")\n",
    "def extract_date_from_filename(filename):\n",
    "    match = re.search(r'(\\d+)-(\\d+)', filename)\n",
    "    if match:\n",
    "        month, day = match.groups()\n",
    "        return f\"2025-{int(month):02d}-{int(day):02d}\"  # Format YYYY-MM-DD (assuming 2025)\n",
    "    return \"Unknown\"\n",
    "\n",
    "# Function to extract sleep values based on keywords\n",
    "def extract_value(text, keyword):\n",
    "    \"\"\"Extracts time values in formats like '7h 53m', '7h', '53m', or '9m'.\"\"\"\n",
    "    pattern = rf\"{keyword}\\s*\\n([\\d]+h\\s*[\\d]*m?|[\\d]+m)\"\n",
    "    match = re.search(pattern, text, re.IGNORECASE)\n",
    "    return match.group(1).strip() if match else \"Not Found\"\n",
    "\n",
    "# List to store data\n",
    "sleep_data_list = []\n",
    "\n",
    "# Process each image in the folder\n",
    "for filename in os.listdir(folder_path):\n",
    "    if filename.lower().endswith((\".jpg\", \".jpeg\", \".png\")):  # Ensure it's an image\n",
    "        image_path = os.path.join(folder_path, filename)\n",
    "        image = Image.open(image_path)\n",
    "        \n",
    "        # Extract text from image\n",
    "        extracted_text = pytesseract.image_to_string(image)\n",
    "        \n",
    "        # Extract sleep metrics\n",
    "        time_in_bed = extract_value(extracted_text, \"Time in bed\")\n",
    "        sleep_latency = extract_value(extracted_text, \"Sleep latency\")\n",
    "        sleep_time = extract_value(extracted_text, \"Sleep time\")\n",
    "        actual_sleep_time = extract_value(extracted_text, \"Actual sleep time\")\n",
    "        \n",
    "        # Extract date from filename\n",
    "        date = extract_date_from_filename(filename)\n",
    "        \n",
    "        # Append to list\n",
    "        sleep_data_list.append({\n",
    "            \"Date\": date,\n",
    "            \"Time in Bed\": time_in_bed,\n",
    "            \"Sleep Latency\": sleep_latency,\n",
    "            \"Sleep Time\": sleep_time,\n",
    "            \"Actual Sleep Time\": actual_sleep_time\n",
    "        })\n",
    "\n",
    "# Convert list to DataFrame\n",
    "df = pd.DataFrame(sleep_data_list)\n",
    "\n",
    "# Sort data by Date\n",
    "df = df.sort_values(by=\"Date\")\n",
    "\n",
    "# Save to CSV\n",
    "csv_filename = \"all_sleep_data_sorted.csv\"\n",
    "df.to_csv(csv_filename, index=False)\n",
    "\n",
    "print(f\"All sleep data sorted by date saved to {csv_filename}\")\n",
    "\n"
   ]
  }
 ],
 "metadata": {
  "kernelspec": {
   "display_name": "base",
   "language": "python",
   "name": "python3"
  },
  "language_info": {
   "codemirror_mode": {
    "name": "ipython",
    "version": 3
   },
   "file_extension": ".py",
   "mimetype": "text/x-python",
   "name": "python",
   "nbconvert_exporter": "python",
   "pygments_lexer": "ipython3",
   "version": "3.12.4"
  }
 },
 "nbformat": 4,
 "nbformat_minor": 2
}
